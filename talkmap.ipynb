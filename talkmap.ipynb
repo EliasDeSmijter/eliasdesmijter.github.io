{
 "cells": [
  {
   "cell_type": "markdown",
   "metadata": {},
   "source": [
    "# Leaflet cluster map of talk locations\n",
    "\n",
    "Assuming you are working in a Linux or Windows Subsystem for Linux environment, you may need to install some dependencies. Assuming a clean installation, the following will be needed:\n",
    "\n",
    "```bash\n",
    "sudo apt install jupyter\n",
    "sudo apt install python3-pip\n",
    "pip install python-frontmatter getorg --upgrade\n",
    "```\n",
    "\n",
    "After which you can run this from the `_talks/` directory, via:\n",
    "\n",
    "```bash\n",
    " jupyter nbconvert --to notebook --execute talkmap.ipynb --output talkmap_out.ipynb\n",
    "```\n",
    " \n",
    "The `_talks/` directory contains `.md` files of all your talks. This scrapes the location YAML field from each `.md` file, geolocates it with `geopy/Nominatim`, and uses the `getorg` library to output data, HTML, and Javascript for a standalone cluster map."
   ]
  },
  {
   "cell_type": "code",
   "execution_count": 1,
   "metadata": {
    "collapsed": false
   },
   "outputs": [
    {
     "name": "stdout",
     "output_type": "stream",
     "text": [
      "Requirement already satisfied: python-frontmatter in /Users/eliasdesmijter/miniconda3/envs/stbsp/lib/python3.11/site-packages (1.1.0)\n",
      "Requirement already satisfied: getorg in /Users/eliasdesmijter/miniconda3/envs/stbsp/lib/python3.11/site-packages (0.3.1)\n",
      "Requirement already satisfied: PyYAML in /Users/eliasdesmijter/miniconda3/envs/stbsp/lib/python3.11/site-packages (from python-frontmatter) (6.0.1)\n",
      "Requirement already satisfied: geopy in /Users/eliasdesmijter/miniconda3/envs/stbsp/lib/python3.11/site-packages (from getorg) (2.4.1)\n",
      "Requirement already satisfied: pygithub in /Users/eliasdesmijter/miniconda3/envs/stbsp/lib/python3.11/site-packages (from getorg) (2.8.1)\n",
      "Requirement already satisfied: retrying in /Users/eliasdesmijter/miniconda3/envs/stbsp/lib/python3.11/site-packages (from getorg) (1.4.2)\n",
      "Requirement already satisfied: geographiclib<3,>=1.52 in /Users/eliasdesmijter/miniconda3/envs/stbsp/lib/python3.11/site-packages (from geopy->getorg) (2.1)\n",
      "Requirement already satisfied: pynacl>=1.4.0 in /Users/eliasdesmijter/miniconda3/envs/stbsp/lib/python3.11/site-packages (from pygithub->getorg) (1.6.0)\n",
      "Requirement already satisfied: requests>=2.14.0 in /Users/eliasdesmijter/miniconda3/envs/stbsp/lib/python3.11/site-packages (from pygithub->getorg) (2.31.0)\n",
      "Requirement already satisfied: pyjwt>=2.4.0 in /Users/eliasdesmijter/miniconda3/envs/stbsp/lib/python3.11/site-packages (from pyjwt[crypto]>=2.4.0->pygithub->getorg) (2.10.1)\n",
      "Requirement already satisfied: typing-extensions>=4.5.0 in /Users/eliasdesmijter/miniconda3/envs/stbsp/lib/python3.11/site-packages (from pygithub->getorg) (4.7.1)\n",
      "Requirement already satisfied: urllib3>=1.26.0 in /Users/eliasdesmijter/miniconda3/envs/stbsp/lib/python3.11/site-packages (from pygithub->getorg) (1.26.18)\n",
      "Requirement already satisfied: cryptography>=3.4.0 in /Users/eliasdesmijter/miniconda3/envs/stbsp/lib/python3.11/site-packages (from pyjwt[crypto]>=2.4.0->pygithub->getorg) (41.0.3)\n",
      "Requirement already satisfied: cffi>=1.4.1 in /Users/eliasdesmijter/miniconda3/envs/stbsp/lib/python3.11/site-packages (from pynacl>=1.4.0->pygithub->getorg) (1.15.1)\n",
      "Requirement already satisfied: charset-normalizer<4,>=2 in /Users/eliasdesmijter/miniconda3/envs/stbsp/lib/python3.11/site-packages (from requests>=2.14.0->pygithub->getorg) (2.0.4)\n",
      "Requirement already satisfied: idna<4,>=2.5 in /Users/eliasdesmijter/miniconda3/envs/stbsp/lib/python3.11/site-packages (from requests>=2.14.0->pygithub->getorg) (3.4)\n",
      "Requirement already satisfied: certifi>=2017.4.17 in /Users/eliasdesmijter/miniconda3/envs/stbsp/lib/python3.11/site-packages (from requests>=2.14.0->pygithub->getorg) (2023.7.22)\n",
      "Requirement already satisfied: pycparser in /Users/eliasdesmijter/miniconda3/envs/stbsp/lib/python3.11/site-packages (from cffi>=1.4.1->pynacl>=1.4.0->pygithub->getorg) (2.21)\n",
      "Iywidgets and ipyleaflet support disabled. You must be in a Jupyter notebook to use this feature.\n",
      "Error raised:\n",
      "No module named 'ipyleaflet'\n",
      "Check that you have enabled ipyleaflet in Jupyter with:\n",
      "    jupyter nbextension enable --py ipyleaflet\n"
     ]
    }
   ],
   "source": [
    "# Start by installing the dependencies\n",
    "!pip install python-frontmatter getorg --upgrade\n",
    "import frontmatter\n",
    "import glob\n",
    "import getorg\n",
    "from geopy import Nominatim\n",
    "from geopy.exc import GeocoderTimedOut"
   ]
  },
  {
   "cell_type": "code",
   "execution_count": 2,
   "metadata": {
    "collapsed": false
   },
   "outputs": [],
   "source": [
    "# Collect the Markdown files\n",
    "g = glob.glob(\"_talks/*.md\")"
   ]
  },
  {
   "cell_type": "code",
   "execution_count": 3,
   "metadata": {
    "collapsed": true
   },
   "outputs": [],
   "source": [
    "# Set the default timeout, in seconds\n",
    "TIMEOUT = 5\n",
    "\n",
    "# Prepare to geolocate\n",
    "geocoder = Nominatim(user_agent=\"academicpages.github.io\")\n",
    "location_dict = {}\n",
    "location = \"\"\n",
    "permalink = \"\"\n",
    "title = \"\""
   ]
  },
  {
   "cell_type": "markdown",
   "metadata": {},
   "source": [
    "In the event that this times out with an error, double check to make sure that the location is can be properly geolocated."
   ]
  },
  {
   "cell_type": "code",
   "execution_count": 4,
   "metadata": {
    "collapsed": false
   },
   "outputs": [
    {
     "name": "stdout",
     "output_type": "stream",
     "text": [
      "Can Appearance Embeddings Improve Geometry? Revisiting Floaters in Novel View Synthesis<br />18th Symposium on Advanced Space Technologies in Robotics and Automation; Scheltema, Leiden, NL Scheltema, Marktsteeg, Noordvest, De Camp, Leiden, Zuid-Holland, Nederland, 2312 CS, Nederland\n"
     ]
    }
   ],
   "source": [
    "# Perform geolocation\n",
    "for file in g:\n",
    "    # Read the file\n",
    "    data = frontmatter.load(file)\n",
    "    data = data.to_dict()\n",
    "\n",
    "    # Press on if the location is not present\n",
    "    if 'location' not in data:\n",
    "        continue\n",
    "\n",
    "    # Prepare the description\n",
    "    title = data['title'].strip()\n",
    "    venue = data['venue'].strip()\n",
    "    location = data['location'].strip()\n",
    "    description = f\"{title}<br />{venue}; {location}\"\n",
    "\n",
    "    # Geocode the location and report the status\n",
    "    try:\n",
    "        location_dict[description] = geocoder.geocode(location, timeout=TIMEOUT)\n",
    "        print(description, location_dict[description])\n",
    "    except ValueError as ex:\n",
    "        print(f\"Error: geocode failed on input {location} with message {ex}\")\n",
    "    except GeocoderTimedOut as ex:\n",
    "        print(f\"Error: geocode timed out on input {location} with message {ex}\")\n",
    "    except Exception as ex:\n",
    "        print(f\"An unhandled exception occurred while processing input {location} with message {ex}\")"
   ]
  },
  {
   "cell_type": "code",
   "execution_count": 5,
   "metadata": {
    "collapsed": false
   },
   "outputs": [
    {
     "data": {
      "text/plain": [
       "'Written map to talkmap/'"
      ]
     },
     "execution_count": 5,
     "metadata": {},
     "output_type": "execute_result"
    }
   ],
   "source": [
    "# Save the map\n",
    "m = getorg.orgmap.create_map_obj()\n",
    "getorg.orgmap.output_html_cluster_map(location_dict, folder_name=\"talkmap\", hashed_usernames=False)"
   ]
  },
  {
   "cell_type": "code",
   "execution_count": null,
   "metadata": {
    "collapsed": true
   },
   "outputs": [],
   "source": []
  }
 ],
 "metadata": {
  "anaconda-cloud": {},
  "kernelspec": {
   "display_name": "stbsp",
   "language": "python",
   "name": "python3"
  },
  "language_info": {
   "codemirror_mode": {
    "name": "ipython",
    "version": 3
   },
   "file_extension": ".py",
   "mimetype": "text/x-python",
   "name": "python",
   "nbconvert_exporter": "python",
   "pygments_lexer": "ipython3",
   "version": "3.11.5"
  }
 },
 "nbformat": 4,
 "nbformat_minor": 0
}
